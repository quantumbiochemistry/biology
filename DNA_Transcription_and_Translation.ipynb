{
  "nbformat": 4,
  "nbformat_minor": 0,
  "metadata": {
    "colab": {
      "provenance": []
    },
    "kernelspec": {
      "name": "python3",
      "display_name": "Python 3"
    },
    "language_info": {
      "name": "python"
    }
  },
  "cells": [
    {
      "cell_type": "code",
      "execution_count": 70,
      "metadata": {
        "id": "zi9GwM8rA6ZQ"
      },
      "outputs": [],
      "source": [
        "def transcript(x):\n",
        "  seqa = [*x]\n",
        "  for i in range(len(x)):\n",
        "      if(seqa[i]=='G'):\n",
        "          seqa[i]='C'\n",
        "\n",
        "      elif(seqa[i]=='C'):\n",
        "          seqa[i]='G'\n",
        "\n",
        "      elif (seqa[i] == 'T'):\n",
        "          seqa[i] = 'A'\n",
        "\n",
        "      elif (seqa[i] == 'A'):\n",
        "          seqa[i] = 'U'\n",
        "\n",
        "      else:\n",
        "          break\n",
        "\n",
        "  str1 = \" \"\n",
        "  y= str1.join(seqa)\n",
        "  print(\"Transcription:\", y)"
      ]
    },
    {
      "cell_type": "code",
      "source": [
        "def translate(y):\n",
        "  z = [y[i:i+3] for i in range(0, len(y), 3)]\n",
        "  seqb = [*z]\n",
        "  for i in seqb:\n",
        "    if len(i) != 3:\n",
        "        seqb.remove(i)\n",
        "  for i in range(len(seqb)):\n",
        "      if(seqb[i]=='UUU' or seqb[i]=='UUC'):\n",
        "          seqb[i]='Phe'\n",
        "\n",
        "      elif(seqb[i]=='UUA' or seqb[i]=='UUG' or seqb[i]=='CUU' or seqb[i]=='CUC' or seqb[i]=='CUA' or seqb[i]=='CUG'):\n",
        "          seqb[i]='Leu'\n",
        "\n",
        "      elif (seqb[i] == 'AUU' or seqb[i]=='AUC' or seqb[i]=='AUA'):\n",
        "          seqb[i] = 'Ile'\n",
        "\n",
        "      elif (seqb[i] == 'GUU' or seqb[i]=='GUC' or seqb[i]=='GUA' or seqb[i]=='GUG'):\n",
        "          seqb[i] = 'Val'\n",
        "\n",
        "      elif (seqb[i] == 'UCU' or seqb[i]=='UCC' or seqb[i]=='UCA' or seqb[i]=='UCG' or seqb[i] == 'AGU' or seqb[i]=='AGC'):\n",
        "          seqb[i] = 'Ser'\n",
        "\n",
        "      elif (seqb[i] == 'CCU' or seqb[i]=='CCC' or seqb[i]=='CCA' or seqb[i]=='CCG'):\n",
        "          seqb[i] = 'Pro'\n",
        "\n",
        "      elif (seqb[i] == 'ACU' or seqb[i]=='ACC' or seqb[i]=='ACA' or seqb[i]=='ACG'):\n",
        "          seqb[i] = 'Thr'\n",
        "\n",
        "      elif (seqb[i] == 'GCU' or seqb[i]=='GCC' or seqb[i]=='GCA' or seqb[i]=='GCG'):\n",
        "          seqb[i] = 'Ala'\n",
        "\n",
        "      elif (seqb[i] == 'UAU' or seqb[i]=='UAC'):\n",
        "          seqb[i] = 'Tyr'\n",
        "\n",
        "      elif (seqb[i] == 'UAA' or seqb[i]=='UAG' or seqb[i]=='UGA'):\n",
        "          seqb[i] = 'Stop'\n",
        "\n",
        "      elif (seqb[i] == 'CAU' or seqb[i]=='CAC'):\n",
        "          seqb[i] = 'His'\n",
        "\n",
        "      elif (seqb[i] == 'CAA' or seqb[i]=='CAG'):\n",
        "          seqb[i] = 'Gln'\n",
        "\n",
        "      elif (seqb[i] == 'AAU' or seqb[i]=='AAC'):\n",
        "          seqb[i] = 'Asn'\n",
        "\n",
        "      elif (seqb[i] == 'AAA' or seqb[i]=='AAG'):\n",
        "          seqb[i] = 'Lys'\n",
        "\n",
        "      elif (seqb[i] == 'GAU' or seqb[i]=='GAC'):\n",
        "          seqb[i] = 'Asp'\n",
        "\n",
        "      elif (seqb[i] == 'GAA' or seqb[i]=='GAG'):\n",
        "          seqb[i] = 'Glu'\n",
        "\n",
        "      elif (seqb[i] == 'UGU' or seqb[i]=='UGC'):\n",
        "          seqb[i] = 'Cys'\n",
        "\n",
        "      elif (seqb[i] == 'UGG'):\n",
        "          seqb[i] = 'Trp'\n",
        "\n",
        "      elif (seqb[i] == 'CGU' or seqb[i]=='CGC' or seqb[i]=='CGA' or seqb[i]=='CGG' or seqb[i]=='AGA' or seqb[i]=='AGG'):\n",
        "          seqb[i] = 'Arg'\n",
        "\n",
        "      elif (seqb[i] == 'GGU' or seqb[i]=='GGC' or seqb[i]=='GGA' or seqb[i]=='GGG'):\n",
        "          seqb[i] = 'Gly'\n",
        "\n",
        "      elif (seqb[i] == 'AUG'):\n",
        "          seqb[i] = 'Met'\n",
        "      else:\n",
        "          break\n",
        "\n",
        "  str1 = \" \"\n",
        "  y= str1.join(seqb)\n",
        "  print (\"Translation:\", y)\n"
      ],
      "metadata": {
        "id": "MiyXbOnOjF9y"
      },
      "execution_count": 71,
      "outputs": []
    },
    {
      "cell_type": "code",
      "source": [
        "x = input(\"1 for transcript, 2 for translate: \")\n",
        "while True:\n",
        "  if x == '1':\n",
        "    y=input(\"Type your DNA sequence below. Please be sure to only use A, G, C, and T, with no spaces or the transcription may be erroneous.\\n\")\n",
        "    transcript(y)\n",
        "    break\n",
        "  elif x == '2':\n",
        "    z=input(\"Type your mRNA sequence below. Please be sure to use A, G, C, and U, with no spaces or the translation may be erroneous.\\nIf the sequence exceeds a multiple of 3, it will be trimmed. \")\n",
        "    translate(z)\n",
        "    break\n",
        "  else:\n",
        "    print(\"This was not an option.\")\n",
        "    break"
      ],
      "metadata": {
        "id": "kIPkRMAUopYm"
      },
      "execution_count": null,
      "outputs": []
    }
  ]
}